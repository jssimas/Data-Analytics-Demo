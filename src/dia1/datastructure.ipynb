{
 "cells": [
  {
   "cell_type": "markdown",
   "metadata": {},
   "source": [
    "Listas"
   ]
  },
  {
   "cell_type": "code",
   "execution_count": 4,
   "metadata": {},
   "outputs": [
    {
     "name": "stdout",
     "output_type": "stream",
     "text": [
      "2\n",
      "Lista:  ['Manga', 'Maça', 'Banana', 'abacaxi', 'Kiwi']\n",
      "Lista:  ['Kiwi', 'abacaxi', 'Banana', 'Maça', 'Manga']\n",
      "Lista:  ['Kiwi', 'abacaxi', 'Banana', 'Maça', 'Manga', 'Amora']\n",
      "Lista:  ['Amora', 'Banana', 'Kiwi', 'Manga', 'Maça', 'abacaxi']\n",
      "Lista:  ['Amora', 'Banana', 'Kiwi', 'Manga', 'Maça']\n"
     ]
    }
   ],
   "source": [
    "frutas = [\"Manga\", \"Maça\", \"Banana\", \"abacaxi\", \"Kiwi\"]\n",
    "frutas.count(\"Manga\")\n",
    "print(frutas.index(\"Banana\"))\n",
    "frutas.index(\"abacaxi\")\n",
    "#frutas.index(\"Abacaxi\")\n",
    "print(\"Lista: \", frutas)\n",
    "frutas.reverse()#Reverte\n",
    "print(\"Lista: \", frutas)\n",
    "frutas.append(\"Amora\")#Adiciona elemento\n",
    "print(\"Lista: \", frutas)\n",
    "frutas.sort()#Ordenar\n",
    "print(\"Lista: \", frutas)\n",
    "frutas.pop()#Remove o ultimo\n",
    "print(\"Lista: \", frutas)"
   ]
  },
  {
   "cell_type": "markdown",
   "metadata": {},
   "source": [
    "Listas como Pilhas"
   ]
  },
  {
   "cell_type": "code",
   "execution_count": 2,
   "metadata": {},
   "outputs": [
    {
     "name": "stdout",
     "output_type": "stream",
     "text": [
      "Pilha:  [1, 2, 3, 4, 5]\n"
     ]
    }
   ],
   "source": [
    "#\n",
    "# Criando a pilha\n",
    "#\n",
    "\n",
    "pilha = [ 1, 2, 3, 4, 5 ]\n",
    "\n",
    "print(\"Pilha: \", pilha)"
   ]
  },
  {
   "cell_type": "code",
   "execution_count": 25,
   "metadata": {},
   "outputs": [
    {
     "name": "stdout",
     "output_type": "stream",
     "text": [
      "[1, 2, 3, 4, 5, 6]\n"
     ]
    }
   ],
   "source": [
    "#\n",
    "# Inserindo elementos na Pilha\n",
    "#\n",
    "\n",
    "pilha.append(6)\n",
    "\n",
    "print(\"Pilha: \", pilha)"
   ]
  },
  {
   "cell_type": "code",
   "execution_count": 5,
   "metadata": {},
   "outputs": [
    {
     "name": "stdout",
     "output_type": "stream",
     "text": [
      "Elemento retirado:  5\n",
      "Pilha:  [1, 2, 3, 4]\n"
     ]
    }
   ],
   "source": [
    "#\n",
    "# Retirando elementos da Pilha\n",
    "#\n",
    "\n",
    "elemento = pilha.pop()\n",
    "\n",
    "print(\"Elemento retirado: \", elemento)\n",
    "\n",
    "print(\"Pilha: \", pilha)"
   ]
  },
  {
   "cell_type": "markdown",
   "metadata": {},
   "source": [
    "Listas como Filas"
   ]
  },
  {
   "cell_type": "code",
   "execution_count": 29,
   "metadata": {},
   "outputs": [
    {
     "data": {
      "text/plain": [
       "deque(['Michael', 'Terry', 'Graham'])"
      ]
     },
     "execution_count": 29,
     "metadata": {},
     "output_type": "execute_result"
    }
   ],
   "source": [
    "from collections import deque\n",
    "\n",
    "queue = deque([\"Renata\", \"Joao\", \"Michael\"])\n",
    "queue.append(\"Terry\")\n",
    "queue.append(\"Graham\")\n",
    "queue.popleft()\n",
    "queue.popleft()\n",
    "queue"
   ]
  },
  {
   "cell_type": "markdown",
   "metadata": {},
   "source": [
    "Tuplas"
   ]
  },
  {
   "cell_type": "code",
   "execution_count": 43,
   "metadata": {},
   "outputs": [
    {
     "name": "stdout",
     "output_type": "stream",
     "text": [
      "Tupla:  (23, 'Hello World', 18.5)\n",
      "Elemento:  23\n",
      "A:  23\n",
      "B:  Hello World\n",
      "C:  18.5\n",
      "Tupla Alinhada:  ((23, 'Hello World', 18.5), ('teste1', 'teste2'))\n"
     ]
    }
   ],
   "source": [
    "#\n",
    "# Criando tuplas\n",
    "#\n",
    "\n",
    "tupla = 23, \"Hello World\", 18.5\n",
    "\n",
    "print(\"Tupla: \", tupla)\n",
    "\n",
    "elemento = tupla[0]\n",
    "print(\"Elemento: \", elemento)\n",
    "\n",
    "# Desestruturação\n",
    "\n",
    "a, b, c = tupla\n",
    "print(\"A: \", a)\n",
    "print(\"B: \", b)\n",
    "print(\"C: \", c)\n",
    "\n",
    "tupla_alinhada = tupla, (\"teste1\", \"teste2\")\n",
    "\n",
    "print(\"Tupla Alinhada: \", tupla_alinhada)"
   ]
  },
  {
   "cell_type": "markdown",
   "metadata": {},
   "source": [
    "Conjuntos (Sets)"
   ]
  },
  {
   "cell_type": "code",
   "execution_count": 47,
   "metadata": {},
   "outputs": [
    {
     "name": "stdout",
     "output_type": "stream",
     "text": [
      "Conjunto:  {'algebra', 'estatistica', 'analise', 'calculo'}\n",
      "Teste:  True\n"
     ]
    }
   ],
   "source": [
    "#\n",
    "# Criando tuplas\n",
    "#\n",
    "\n",
    "conjunto = { \"calculo\", \"algebra\", \"analise\", \"estatistica\" }\n",
    "\n",
    "print(\"Conjunto: \", conjunto)\n",
    "\n",
    "# Desestruturação\n",
    "\n",
    "print(\"Teste: \", \"calculo\" in conjunto)"
   ]
  },
  {
   "cell_type": "markdown",
   "metadata": {},
   "source": [
    "Dicionário"
   ]
  },
  {
   "cell_type": "code",
   "execution_count": 50,
   "metadata": {},
   "outputs": [
    {
     "data": {
      "text/plain": [
       "True"
      ]
     },
     "execution_count": 50,
     "metadata": {},
     "output_type": "execute_result"
    }
   ],
   "source": [
    "veiculo = {\"dI\": 25698, \"motorista\": \"Renata\", \"corrida\": 7856245, \"placa\": \"ABC8888\"}\n",
    "veiculo\n",
    "veiculo[\"passageiro\"] = 2568\n",
    "veiculo\n",
    "del veiculo[\"placa\"]\n",
    "veiculo\n",
    "list(veiculo)\n",
    "'Id' in veiculo\n",
    "'Id' not in veiculo"
   ]
  }
 ],
 "metadata": {
  "interpreter": {
   "hash": "49559ec8b15890c5e26546a6afa56d95584f2d5e86aa2349561f73b773c4218b"
  },
  "kernelspec": {
   "display_name": "Python 3.9.5 64-bit ('venv': venv)",
   "name": "python3"
  },
  "language_info": {
   "codemirror_mode": {
    "name": "ipython",
    "version": 3
   },
   "file_extension": ".py",
   "mimetype": "text/x-python",
   "name": "python",
   "nbconvert_exporter": "python",
   "pygments_lexer": "ipython3",
   "version": "3.9.5"
  },
  "orig_nbformat": 4
 },
 "nbformat": 4,
 "nbformat_minor": 2
}
