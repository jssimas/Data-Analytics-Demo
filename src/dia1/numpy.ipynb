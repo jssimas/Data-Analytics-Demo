{
 "cells": [
  {
   "cell_type": "code",
   "execution_count": 3,
   "metadata": {},
   "outputs": [
    {
     "name": "stdout",
     "output_type": "stream",
     "text": [
      "[1 2 3 4 5]\n",
      "[[1 2 3 4 5]\n",
      " [1 2 3 4 5]]\n"
     ]
    }
   ],
   "source": [
    "import numpy as np\n",
    "\n",
    "# Criando um array da numpy\n",
    "\n",
    "array = np.array([ 1, 2, 3, 4, 5 ])\n",
    "\n",
    "mdim_array = np.array([ [ 1, 2, 3, 4, 5 ], [1, 2, 3, 4, 5] ])\n",
    "\n",
    "# print(array)\n",
    "# print(mdim_array)\n",
    "# print(mdim_array[0])"
   ]
  },
  {
   "cell_type": "code",
   "execution_count": 6,
   "metadata": {},
   "outputs": [
    {
     "name": "stdout",
     "output_type": "stream",
     "text": [
      "[0. 0. 0. 0. 0.]\n",
      "[1. 1. 1. 1. 1.]\n",
      "[1. 1. 1. 1. 1.]\n",
      "[ 0.   2.5  5.   7.5 10. ]\n"
     ]
    }
   ],
   "source": [
    "array = np.zeros(5)\n",
    "\n",
    "print(array)\n",
    "\n",
    "array = np.ones(5)\n",
    "\n",
    "print(array)\n",
    "\n",
    "array = np.empty(5)\n",
    "\n",
    "print(array)\n",
    "\n",
    "array = np.linspace(0, 10, num = 5)\n",
    "\n",
    "print(array)"
   ]
  },
  {
   "cell_type": "code",
   "execution_count": 10,
   "metadata": {},
   "outputs": [
    {
     "name": "stdout",
     "output_type": "stream",
     "text": [
      "[ 1  2  3  4  5  6  7  8  9 10]\n",
      "[[ 1  2  3  4  5]\n",
      " [ 5  4  3  2  1]\n",
      " [ 6  7  8  9 10]\n",
      " [10  9  8  7  6]]\n"
     ]
    }
   ],
   "source": [
    "a = np.array([1, 2, 3, 4, 5])\n",
    "b = np.array([6, 7, 8, 9, 10])\n",
    "\n",
    "c = np.concatenate([a, b])\n",
    "\n",
    "print(c)\n",
    "\n",
    "a = np.array([[1, 2, 3, 4, 5], [5, 4, 3, 2, 1]])\n",
    "b = np.array([[6, 7, 8, 9, 10], [10, 9, 8, 7, 6]])\n",
    "\n",
    "c = np.concatenate([a, b])\n",
    "\n",
    "print(c)"
   ]
  }
 ],
 "metadata": {
  "interpreter": {
   "hash": "49559ec8b15890c5e26546a6afa56d95584f2d5e86aa2349561f73b773c4218b"
  },
  "kernelspec": {
   "display_name": "Python 3.9.5 64-bit ('venv': venv)",
   "name": "python3"
  },
  "language_info": {
   "codemirror_mode": {
    "name": "ipython",
    "version": 3
   },
   "file_extension": ".py",
   "mimetype": "text/x-python",
   "name": "python",
   "nbconvert_exporter": "python",
   "pygments_lexer": "ipython3",
   "version": "3.9.5"
  },
  "orig_nbformat": 4
 },
 "nbformat": 4,
 "nbformat_minor": 2
}
